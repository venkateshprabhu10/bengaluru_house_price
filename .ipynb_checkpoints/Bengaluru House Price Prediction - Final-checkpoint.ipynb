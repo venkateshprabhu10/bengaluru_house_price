{
 "cells": [
  {
   "cell_type": "markdown",
   "metadata": {},
   "source": [
    "## Table of contents\n",
    "* [Introduction: Business Problem](#introduction)\n",
    "* [Data](#data)\n",
    "* [Methodology](#methodology)\n",
    "* [Exploratory Data Analysis](#eda)\n",
    "* [Modelling](#model)\n",
    "* [Conclusion](#conclusion)\n",
    "* [Enhancements](#enhancement)"
   ]
  },
  {
   "cell_type": "markdown",
   "metadata": {},
   "source": [
    "## 1. Introduction <a name=\"introduction\"></a>"
   ]
  },
  {
   "cell_type": "markdown",
   "metadata": {},
   "source": [
    "### 1.1 Background"
   ]
  },
  {
   "cell_type": "markdown",
   "metadata": {},
   "source": [
    "![title](https://www.tripsavvy.com/thmb/XsDfjokA4nbyEBQ7fBDv-aRammc=/950x0/filters:no_upscale():max_bytes(150000):strip_icc():format(webp)/GettyImages-536116268-5b5d74e846e0fb0050adcf3b.jpg)"
   ]
  },
  {
   "cell_type": "markdown",
   "metadata": {},
   "source": [
    "Have you ever thought of settling in a bustling yet beautiful city in India? Well I am going to introduce you to Bangalore, India.\n",
    "\n",
    "**Bangalore**, officially known as Bengaluru, is the capital of the Indian state of Karnataka. It has a population of over ten million, making it a megacity and the third-most populous city and fifth-most populous urban agglomeration in India. Today as a large city and growing metropolis, Bangalore is home to many of the most well-recognised colleges and research institutions in India. Numerous public sector heavy industries, software companies, aerospace, tele-communications, and defence organizations are located in the city. Bangalore is known as the Silicon Valley of India because of its position as the nation's leading IT exporter. The population density of the city is **4,381 persons per square kilometer** and amounting over 12.476 Million overall. The population growth has extended by 47% in only ten years in light of creating open entryways for employment and growth that are attracting individuals from everywhere throughout the nation."
   ]
  },
  {
   "cell_type": "markdown",
   "metadata": {},
   "source": [
    "### 1.2 Problem"
   ]
  },
  {
   "cell_type": "markdown",
   "metadata": {},
   "source": [
    "Having said that lots of people have started to settle in this city triggering a substantial increase in the house prices over the years. Residential land prices even reach Rs.12,000 per square feet in some parts of Bangalore. Businesses and attractions established across the city have even increased the prices. This makes it difficult for someone who is planning to buy apartments/ villas in Bangalore as most of the property owners try to sell it for higher prices. One also need to have a good idea about the places/facilities nearby before investing a huge sum of money.\n",
    "\n",
    "This notebooks aims to predict the price of an apartment/villa in Bangalore and also provides information regarding nearby places around that location and helps people who are planning to purchase an apartment in Bangalore."
   ]
  },
  {
   "cell_type": "markdown",
   "metadata": {},
   "source": [
    "### 1.3 Approach"
   ]
  },
  {
   "cell_type": "markdown",
   "metadata": {},
   "source": [
    "We can create a regression model based on previous apartment sales in different parts of Bangalore. We will consider important features like location, area and type of the building. Foursquare API can be used to identify the businesses and attractions nearby that location to understand the reason for the price."
   ]
  },
  {
   "cell_type": "markdown",
   "metadata": {},
   "source": [
    "## 2. Data <a name=\"data\"></a>"
   ]
  },
  {
   "cell_type": "markdown",
   "metadata": {},
   "source": [
    "### 2.1 Data Source"
   ]
  },
  {
   "cell_type": "markdown",
   "metadata": {},
   "source": [
    "An interesting data source for our problem is available in Kaggle - https://www.kaggle.com/sangarshanan/bangalore-apartments-dataset\n",
    "\n",
    " - This dataset has both apartment prices as well as the location information. We will be using python libraries like Folium, Pandas, Seaborn/Matplotlib in this project.\n",
    " - Combined with Foursquare API we can utilize Folium to visualize information on maps."
   ]
  },
  {
   "cell_type": "markdown",
   "metadata": {},
   "source": [
    "### 2.2 Data Description"
   ]
  },
  {
   "cell_type": "markdown",
   "metadata": {},
   "source": [
    "The data we have gathered for this project consists of two separate datasets. \n",
    "1. Information about the apartments\n",
    "2. Location of the apartments\n",
    "\n",
    "\n",
    "**Dataset 1:**\n",
    "\n",
    "- names - Name of the apartments\n",
    "- Price - Exact price/ price range ranging from thousands to crores (**Target**)\n",
    "- Area - Exact area/ area range in sq.ft\n",
    "- Unit Type - Different apartment types\n",
    "\n",
    "**Dataset 2:**\n",
    "\n",
    "- names - Name of the apartments\n",
    "- lat - Latitude\n",
    "- lon - Longitude\n",
    "- geometry - combination of lat and lon\n"
   ]
  },
  {
   "cell_type": "markdown",
   "metadata": {},
   "source": [
    "## 3. Methodology"
   ]
  },
  {
   "cell_type": "markdown",
   "metadata": {},
   "source": [
    "The data we have gathered can't be directly used to train a regression model. If you observe, the target that we are trying to predict is a string consisting of a price range. As you may know we will not be able to predict a price range with the help of a regression algorithm. One thing we can do is to calculate the average of the price. After preparing the price column we will be having the Avg. Price for each apartments which we can predict."
   ]
  },
  {
   "cell_type": "markdown",
   "metadata": {},
   "source": [
    "### 3.1 Data Preparation"
   ]
  },
  {
   "cell_type": "markdown",
   "metadata": {},
   "source": [
    "Import necessary libraries."
   ]
  },
  {
   "cell_type": "code",
   "execution_count": 1,
   "metadata": {},
   "outputs": [],
   "source": [
    "import numpy as np\n",
    "import pandas as pd\n",
    "import folium\n",
    "import matplotlib.pyplot as plt\n",
    "import seaborn as sns\n",
    "\n",
    "%matplotlib inline"
   ]
  },
  {
   "cell_type": "code",
   "execution_count": 2,
   "metadata": {},
   "outputs": [],
   "source": [
    "import warnings\n",
    "warnings.filterwarnings('ignore')"
   ]
  },
  {
   "cell_type": "markdown",
   "metadata": {},
   "source": [
    "Read the datasets"
   ]
  },
  {
   "cell_type": "code",
   "execution_count": 3,
   "metadata": {},
   "outputs": [],
   "source": [
    "data = pd.read_csv('data/apartment_data.csv')\n",
    "location = pd.read_csv('data/location.csv')"
   ]
  },
  {
   "cell_type": "markdown",
   "metadata": {},
   "source": [
    "Let us have a look at data we have gathered."
   ]
  },
  {
   "cell_type": "code",
   "execution_count": 4,
   "metadata": {},
   "outputs": [
    {
     "data": {
      "text/html": [
       "<div>\n",
       "<style scoped>\n",
       "    .dataframe tbody tr th:only-of-type {\n",
       "        vertical-align: middle;\n",
       "    }\n",
       "\n",
       "    .dataframe tbody tr th {\n",
       "        vertical-align: top;\n",
       "    }\n",
       "\n",
       "    .dataframe thead th {\n",
       "        text-align: right;\n",
       "    }\n",
       "</style>\n",
       "<table border=\"1\" class=\"dataframe\">\n",
       "  <thead>\n",
       "    <tr style=\"text-align: right;\">\n",
       "      <th></th>\n",
       "      <th>names</th>\n",
       "      <th>Price</th>\n",
       "      <th>Area</th>\n",
       "      <th>Unit Type</th>\n",
       "    </tr>\n",
       "  </thead>\n",
       "  <tbody>\n",
       "    <tr>\n",
       "      <th>0</th>\n",
       "      <td>Salarpuria Sattva Cadenza</td>\n",
       "      <td>39 L -41.65 L</td>\n",
       "      <td>755 sq.ft</td>\n",
       "      <td>1 BHK Apartment</td>\n",
       "    </tr>\n",
       "    <tr>\n",
       "      <th>1</th>\n",
       "      <td>Salarpuria Sattva Cadenza</td>\n",
       "      <td>55 L -75 L</td>\n",
       "      <td>1175-1275 sq.ft</td>\n",
       "      <td>2 BHK Apartment</td>\n",
       "    </tr>\n",
       "    <tr>\n",
       "      <th>2</th>\n",
       "      <td>Salarpuria Sattva Cadenza</td>\n",
       "      <td>70.04 L -73.30 L</td>\n",
       "      <td>1335-1340 sq.ft</td>\n",
       "      <td>2.5 BHK Apartment</td>\n",
       "    </tr>\n",
       "    <tr>\n",
       "      <th>3</th>\n",
       "      <td>Salarpuria Sattva Cadenza</td>\n",
       "      <td>65 L -95 L</td>\n",
       "      <td>1365-1595 sq.ft</td>\n",
       "      <td>3 BHK Apartment</td>\n",
       "    </tr>\n",
       "    <tr>\n",
       "      <th>4</th>\n",
       "      <td>Purva Skydale</td>\n",
       "      <td>76.25 L -1.75 Cr</td>\n",
       "      <td>1273-1371 sq.ft</td>\n",
       "      <td>2 BHK Apartment</td>\n",
       "    </tr>\n",
       "  </tbody>\n",
       "</table>\n",
       "</div>"
      ],
      "text/plain": [
       "                       names             Price             Area  \\\n",
       "0  Salarpuria Sattva Cadenza     39 L -41.65 L        755 sq.ft   \n",
       "1  Salarpuria Sattva Cadenza        55 L -75 L  1175-1275 sq.ft   \n",
       "2  Salarpuria Sattva Cadenza  70.04 L -73.30 L  1335-1340 sq.ft   \n",
       "3  Salarpuria Sattva Cadenza        65 L -95 L  1365-1595 sq.ft   \n",
       "4              Purva Skydale  76.25 L -1.75 Cr  1273-1371 sq.ft   \n",
       "\n",
       "           Unit Type  \n",
       "0    1 BHK Apartment  \n",
       "1    2 BHK Apartment  \n",
       "2  2.5 BHK Apartment  \n",
       "3    3 BHK Apartment  \n",
       "4    2 BHK Apartment  "
      ]
     },
     "execution_count": 4,
     "metadata": {},
     "output_type": "execute_result"
    }
   ],
   "source": [
    "data.head()"
   ]
  },
  {
   "cell_type": "code",
   "execution_count": 5,
   "metadata": {},
   "outputs": [
    {
     "data": {
      "text/html": [
       "<div>\n",
       "<style scoped>\n",
       "    .dataframe tbody tr th:only-of-type {\n",
       "        vertical-align: middle;\n",
       "    }\n",
       "\n",
       "    .dataframe tbody tr th {\n",
       "        vertical-align: top;\n",
       "    }\n",
       "\n",
       "    .dataframe thead th {\n",
       "        text-align: right;\n",
       "    }\n",
       "</style>\n",
       "<table border=\"1\" class=\"dataframe\">\n",
       "  <thead>\n",
       "    <tr style=\"text-align: right;\">\n",
       "      <th></th>\n",
       "      <th>names</th>\n",
       "      <th>lat</th>\n",
       "      <th>lon</th>\n",
       "      <th>geometry</th>\n",
       "    </tr>\n",
       "  </thead>\n",
       "  <tbody>\n",
       "    <tr>\n",
       "      <th>0</th>\n",
       "      <td>Purva Skydale bangalore</td>\n",
       "      <td>12.894033</td>\n",
       "      <td>77.662362</td>\n",
       "      <td>POINT (77.66236169999999 12.894033)</td>\n",
       "    </tr>\n",
       "    <tr>\n",
       "      <th>1</th>\n",
       "      <td>Salarpuria Sattva Cadenza bangalore</td>\n",
       "      <td>12.889441</td>\n",
       "      <td>77.640221</td>\n",
       "      <td>POINT (77.64022109999999 12.889441)</td>\n",
       "    </tr>\n",
       "    <tr>\n",
       "      <th>2</th>\n",
       "      <td>Shriram Summitt bangalore</td>\n",
       "      <td>12.836068</td>\n",
       "      <td>77.667242</td>\n",
       "      <td>POINT (77.6672418 12.8360678)</td>\n",
       "    </tr>\n",
       "    <tr>\n",
       "      <th>3</th>\n",
       "      <td>Shriram Luxor bangalore</td>\n",
       "      <td>13.085249</td>\n",
       "      <td>77.654915</td>\n",
       "      <td>POINT (77.65491539999999 13.085249)</td>\n",
       "    </tr>\n",
       "    <tr>\n",
       "      <th>4</th>\n",
       "      <td>Ecolife Elements Of Nature bangalore</td>\n",
       "      <td>12.938728</td>\n",
       "      <td>77.731126</td>\n",
       "      <td>POINT (77.73112619999999 12.9387277)</td>\n",
       "    </tr>\n",
       "  </tbody>\n",
       "</table>\n",
       "</div>"
      ],
      "text/plain": [
       "                                  names        lat        lon  \\\n",
       "0               Purva Skydale bangalore  12.894033  77.662362   \n",
       "1   Salarpuria Sattva Cadenza bangalore  12.889441  77.640221   \n",
       "2             Shriram Summitt bangalore  12.836068  77.667242   \n",
       "3               Shriram Luxor bangalore  13.085249  77.654915   \n",
       "4  Ecolife Elements Of Nature bangalore  12.938728  77.731126   \n",
       "\n",
       "                               geometry  \n",
       "0   POINT (77.66236169999999 12.894033)  \n",
       "1   POINT (77.64022109999999 12.889441)  \n",
       "2         POINT (77.6672418 12.8360678)  \n",
       "3   POINT (77.65491539999999 13.085249)  \n",
       "4  POINT (77.73112619999999 12.9387277)  "
      ]
     },
     "execution_count": 5,
     "metadata": {},
     "output_type": "execute_result"
    }
   ],
   "source": [
    "location.head()"
   ]
  },
  {
   "cell_type": "markdown",
   "metadata": {},
   "source": [
    "We will start by working on the apartment information dataset. We can not predict a price range through regression. So we will be predicting the avg. price of the apartment."
   ]
  },
  {
   "cell_type": "code",
   "execution_count": 6,
   "metadata": {},
   "outputs": [],
   "source": [
    "# Drop null values\n",
    "data.dropna(inplace=True)"
   ]
  },
  {
   "cell_type": "code",
   "execution_count": 7,
   "metadata": {},
   "outputs": [],
   "source": [
    "# Split the price feature\n",
    "data[['Low', 'High']] = data['Price'].str.split('-', expand=True)"
   ]
  },
  {
   "cell_type": "code",
   "execution_count": 8,
   "metadata": {},
   "outputs": [
    {
     "data": {
      "text/html": [
       "<div>\n",
       "<style scoped>\n",
       "    .dataframe tbody tr th:only-of-type {\n",
       "        vertical-align: middle;\n",
       "    }\n",
       "\n",
       "    .dataframe tbody tr th {\n",
       "        vertical-align: top;\n",
       "    }\n",
       "\n",
       "    .dataframe thead th {\n",
       "        text-align: right;\n",
       "    }\n",
       "</style>\n",
       "<table border=\"1\" class=\"dataframe\">\n",
       "  <thead>\n",
       "    <tr style=\"text-align: right;\">\n",
       "      <th></th>\n",
       "      <th>names</th>\n",
       "      <th>Price</th>\n",
       "      <th>Area</th>\n",
       "      <th>Unit Type</th>\n",
       "      <th>Low</th>\n",
       "      <th>High</th>\n",
       "    </tr>\n",
       "  </thead>\n",
       "  <tbody>\n",
       "    <tr>\n",
       "      <th>0</th>\n",
       "      <td>Salarpuria Sattva Cadenza</td>\n",
       "      <td>39 L -41.65 L</td>\n",
       "      <td>755 sq.ft</td>\n",
       "      <td>1 BHK Apartment</td>\n",
       "      <td>39 L</td>\n",
       "      <td>41.65 L</td>\n",
       "    </tr>\n",
       "    <tr>\n",
       "      <th>1</th>\n",
       "      <td>Salarpuria Sattva Cadenza</td>\n",
       "      <td>55 L -75 L</td>\n",
       "      <td>1175-1275 sq.ft</td>\n",
       "      <td>2 BHK Apartment</td>\n",
       "      <td>55 L</td>\n",
       "      <td>75 L</td>\n",
       "    </tr>\n",
       "    <tr>\n",
       "      <th>2</th>\n",
       "      <td>Salarpuria Sattva Cadenza</td>\n",
       "      <td>70.04 L -73.30 L</td>\n",
       "      <td>1335-1340 sq.ft</td>\n",
       "      <td>2.5 BHK Apartment</td>\n",
       "      <td>70.04 L</td>\n",
       "      <td>73.30 L</td>\n",
       "    </tr>\n",
       "    <tr>\n",
       "      <th>3</th>\n",
       "      <td>Salarpuria Sattva Cadenza</td>\n",
       "      <td>65 L -95 L</td>\n",
       "      <td>1365-1595 sq.ft</td>\n",
       "      <td>3 BHK Apartment</td>\n",
       "      <td>65 L</td>\n",
       "      <td>95 L</td>\n",
       "    </tr>\n",
       "    <tr>\n",
       "      <th>4</th>\n",
       "      <td>Purva Skydale</td>\n",
       "      <td>76.25 L -1.75 Cr</td>\n",
       "      <td>1273-1371 sq.ft</td>\n",
       "      <td>2 BHK Apartment</td>\n",
       "      <td>76.25 L</td>\n",
       "      <td>1.75 Cr</td>\n",
       "    </tr>\n",
       "  </tbody>\n",
       "</table>\n",
       "</div>"
      ],
      "text/plain": [
       "                       names             Price             Area  \\\n",
       "0  Salarpuria Sattva Cadenza     39 L -41.65 L        755 sq.ft   \n",
       "1  Salarpuria Sattva Cadenza        55 L -75 L  1175-1275 sq.ft   \n",
       "2  Salarpuria Sattva Cadenza  70.04 L -73.30 L  1335-1340 sq.ft   \n",
       "3  Salarpuria Sattva Cadenza        65 L -95 L  1365-1595 sq.ft   \n",
       "4              Purva Skydale  76.25 L -1.75 Cr  1273-1371 sq.ft   \n",
       "\n",
       "           Unit Type       Low     High  \n",
       "0    1 BHK Apartment     39 L   41.65 L  \n",
       "1    2 BHK Apartment     55 L      75 L  \n",
       "2  2.5 BHK Apartment  70.04 L   73.30 L  \n",
       "3    3 BHK Apartment     65 L      95 L  \n",
       "4    2 BHK Apartment  76.25 L   1.75 Cr  "
      ]
     },
     "execution_count": 8,
     "metadata": {},
     "output_type": "execute_result"
    }
   ],
   "source": [
    "data.head()"
   ]
  },
  {
   "cell_type": "code",
   "execution_count": 9,
   "metadata": {},
   "outputs": [],
   "source": [
    "# Converter which converts '39 L' into 3900000.0 (for example)\n",
    "def converter(num, multiplier):\n",
    "    num = float(num)\n",
    "    if multiplier == 'L':\n",
    "        return round(num * 100000)\n",
    "    elif multiplier == 'Cr':\n",
    "        return num * 10000000\n",
    "    elif multiplier == 'K':\n",
    "        return round(num * 1000)"
   ]
  },
  {
   "cell_type": "code",
   "execution_count": 10,
   "metadata": {},
   "outputs": [],
   "source": [
    "# Function that calculates the average price of the apartment\n",
    "def avgPrice(low, high):\n",
    "    if low == '0':\n",
    "        computed_low = 0\n",
    "    else:    \n",
    "        low = low.strip().split()\n",
    "        computed_low = converter(low[0], low[1])\n",
    "    \n",
    "    if high == None:\n",
    "        computed_high = computed_low\n",
    "    else:\n",
    "        high = high.strip().split()\n",
    "        computed_high = converter(high[0], high[1])\n",
    "    return (computed_low + computed_high)/2"
   ]
  },
  {
   "cell_type": "markdown",
   "metadata": {},
   "source": [
    "Apply the avgPrice() function to the data to calculate the avg. price of the apartment"
   ]
  },
  {
   "cell_type": "code",
   "execution_count": 11,
   "metadata": {},
   "outputs": [],
   "source": [
    "data['AvgPrice'] = data.apply(lambda row: avgPrice(row['Low'], row['High']), axis=1)"
   ]
  },
  {
   "cell_type": "code",
   "execution_count": 12,
   "metadata": {},
   "outputs": [],
   "source": [
    "data['Area'] = data['Area'].str.replace(' sq.ft', '')\n",
    "# Split the price feature\n",
    "data[['LowArea', 'HighArea']] = data['Area'].str.split('-', expand=True)"
   ]
  },
  {
   "cell_type": "code",
   "execution_count": 13,
   "metadata": {},
   "outputs": [
    {
     "data": {
      "text/html": [
       "<div>\n",
       "<style scoped>\n",
       "    .dataframe tbody tr th:only-of-type {\n",
       "        vertical-align: middle;\n",
       "    }\n",
       "\n",
       "    .dataframe tbody tr th {\n",
       "        vertical-align: top;\n",
       "    }\n",
       "\n",
       "    .dataframe thead th {\n",
       "        text-align: right;\n",
       "    }\n",
       "</style>\n",
       "<table border=\"1\" class=\"dataframe\">\n",
       "  <thead>\n",
       "    <tr style=\"text-align: right;\">\n",
       "      <th></th>\n",
       "      <th>names</th>\n",
       "      <th>Price</th>\n",
       "      <th>Area</th>\n",
       "      <th>Unit Type</th>\n",
       "      <th>Low</th>\n",
       "      <th>High</th>\n",
       "      <th>AvgPrice</th>\n",
       "      <th>LowArea</th>\n",
       "      <th>HighArea</th>\n",
       "    </tr>\n",
       "  </thead>\n",
       "  <tbody>\n",
       "    <tr>\n",
       "      <th>0</th>\n",
       "      <td>Salarpuria Sattva Cadenza</td>\n",
       "      <td>39 L -41.65 L</td>\n",
       "      <td>755</td>\n",
       "      <td>1 BHK Apartment</td>\n",
       "      <td>39 L</td>\n",
       "      <td>41.65 L</td>\n",
       "      <td>4032500.0</td>\n",
       "      <td>755</td>\n",
       "      <td>None</td>\n",
       "    </tr>\n",
       "    <tr>\n",
       "      <th>1</th>\n",
       "      <td>Salarpuria Sattva Cadenza</td>\n",
       "      <td>55 L -75 L</td>\n",
       "      <td>1175-1275</td>\n",
       "      <td>2 BHK Apartment</td>\n",
       "      <td>55 L</td>\n",
       "      <td>75 L</td>\n",
       "      <td>6500000.0</td>\n",
       "      <td>1175</td>\n",
       "      <td>1275</td>\n",
       "    </tr>\n",
       "    <tr>\n",
       "      <th>2</th>\n",
       "      <td>Salarpuria Sattva Cadenza</td>\n",
       "      <td>70.04 L -73.30 L</td>\n",
       "      <td>1335-1340</td>\n",
       "      <td>2.5 BHK Apartment</td>\n",
       "      <td>70.04 L</td>\n",
       "      <td>73.30 L</td>\n",
       "      <td>7167000.0</td>\n",
       "      <td>1335</td>\n",
       "      <td>1340</td>\n",
       "    </tr>\n",
       "    <tr>\n",
       "      <th>3</th>\n",
       "      <td>Salarpuria Sattva Cadenza</td>\n",
       "      <td>65 L -95 L</td>\n",
       "      <td>1365-1595</td>\n",
       "      <td>3 BHK Apartment</td>\n",
       "      <td>65 L</td>\n",
       "      <td>95 L</td>\n",
       "      <td>8000000.0</td>\n",
       "      <td>1365</td>\n",
       "      <td>1595</td>\n",
       "    </tr>\n",
       "    <tr>\n",
       "      <th>4</th>\n",
       "      <td>Purva Skydale</td>\n",
       "      <td>76.25 L -1.75 Cr</td>\n",
       "      <td>1273-1371</td>\n",
       "      <td>2 BHK Apartment</td>\n",
       "      <td>76.25 L</td>\n",
       "      <td>1.75 Cr</td>\n",
       "      <td>12562500.0</td>\n",
       "      <td>1273</td>\n",
       "      <td>1371</td>\n",
       "    </tr>\n",
       "  </tbody>\n",
       "</table>\n",
       "</div>"
      ],
      "text/plain": [
       "                       names             Price       Area          Unit Type  \\\n",
       "0  Salarpuria Sattva Cadenza     39 L -41.65 L        755    1 BHK Apartment   \n",
       "1  Salarpuria Sattva Cadenza        55 L -75 L  1175-1275    2 BHK Apartment   \n",
       "2  Salarpuria Sattva Cadenza  70.04 L -73.30 L  1335-1340  2.5 BHK Apartment   \n",
       "3  Salarpuria Sattva Cadenza        65 L -95 L  1365-1595    3 BHK Apartment   \n",
       "4              Purva Skydale  76.25 L -1.75 Cr  1273-1371    2 BHK Apartment   \n",
       "\n",
       "        Low     High    AvgPrice LowArea HighArea  \n",
       "0     39 L   41.65 L   4032500.0     755     None  \n",
       "1     55 L      75 L   6500000.0    1175     1275  \n",
       "2  70.04 L   73.30 L   7167000.0    1335     1340  \n",
       "3     65 L      95 L   8000000.0    1365     1595  \n",
       "4  76.25 L   1.75 Cr  12562500.0    1273     1371  "
      ]
     },
     "execution_count": 13,
     "metadata": {},
     "output_type": "execute_result"
    }
   ],
   "source": [
    "data.head()"
   ]
  },
  {
   "cell_type": "code",
   "execution_count": 14,
   "metadata": {},
   "outputs": [],
   "source": [
    "data['HighArea'].fillna('0', inplace=True)"
   ]
  },
  {
   "cell_type": "code",
   "execution_count": 15,
   "metadata": {},
   "outputs": [],
   "source": [
    "data[['LowArea', 'HighArea']] = data[['LowArea', 'HighArea']].astype('int')"
   ]
  },
  {
   "cell_type": "code",
   "execution_count": 16,
   "metadata": {},
   "outputs": [],
   "source": [
    "data['HighArea'] = data.apply(lambda row: row['LowArea'] if row['HighArea']==0 else row['HighArea'], 1)"
   ]
  },
  {
   "cell_type": "code",
   "execution_count": 17,
   "metadata": {},
   "outputs": [],
   "source": [
    "data['AvgPrice in Thousands'] = data['AvgPrice']/1000"
   ]
  },
  {
   "cell_type": "code",
   "execution_count": 18,
   "metadata": {},
   "outputs": [
    {
     "data": {
      "text/html": [
       "<div>\n",
       "<style scoped>\n",
       "    .dataframe tbody tr th:only-of-type {\n",
       "        vertical-align: middle;\n",
       "    }\n",
       "\n",
       "    .dataframe tbody tr th {\n",
       "        vertical-align: top;\n",
       "    }\n",
       "\n",
       "    .dataframe thead th {\n",
       "        text-align: right;\n",
       "    }\n",
       "</style>\n",
       "<table border=\"1\" class=\"dataframe\">\n",
       "  <thead>\n",
       "    <tr style=\"text-align: right;\">\n",
       "      <th></th>\n",
       "      <th>names</th>\n",
       "      <th>Price</th>\n",
       "      <th>Area</th>\n",
       "      <th>Unit Type</th>\n",
       "      <th>Low</th>\n",
       "      <th>High</th>\n",
       "      <th>AvgPrice</th>\n",
       "      <th>LowArea</th>\n",
       "      <th>HighArea</th>\n",
       "      <th>AvgPrice in Thousands</th>\n",
       "    </tr>\n",
       "  </thead>\n",
       "  <tbody>\n",
       "    <tr>\n",
       "      <th>0</th>\n",
       "      <td>Salarpuria Sattva Cadenza</td>\n",
       "      <td>39 L -41.65 L</td>\n",
       "      <td>755</td>\n",
       "      <td>1 BHK Apartment</td>\n",
       "      <td>39 L</td>\n",
       "      <td>41.65 L</td>\n",
       "      <td>4032500.0</td>\n",
       "      <td>755</td>\n",
       "      <td>755</td>\n",
       "      <td>4032.5</td>\n",
       "    </tr>\n",
       "    <tr>\n",
       "      <th>1</th>\n",
       "      <td>Salarpuria Sattva Cadenza</td>\n",
       "      <td>55 L -75 L</td>\n",
       "      <td>1175-1275</td>\n",
       "      <td>2 BHK Apartment</td>\n",
       "      <td>55 L</td>\n",
       "      <td>75 L</td>\n",
       "      <td>6500000.0</td>\n",
       "      <td>1175</td>\n",
       "      <td>1275</td>\n",
       "      <td>6500.0</td>\n",
       "    </tr>\n",
       "    <tr>\n",
       "      <th>2</th>\n",
       "      <td>Salarpuria Sattva Cadenza</td>\n",
       "      <td>70.04 L -73.30 L</td>\n",
       "      <td>1335-1340</td>\n",
       "      <td>2.5 BHK Apartment</td>\n",
       "      <td>70.04 L</td>\n",
       "      <td>73.30 L</td>\n",
       "      <td>7167000.0</td>\n",
       "      <td>1335</td>\n",
       "      <td>1340</td>\n",
       "      <td>7167.0</td>\n",
       "    </tr>\n",
       "    <tr>\n",
       "      <th>3</th>\n",
       "      <td>Salarpuria Sattva Cadenza</td>\n",
       "      <td>65 L -95 L</td>\n",
       "      <td>1365-1595</td>\n",
       "      <td>3 BHK Apartment</td>\n",
       "      <td>65 L</td>\n",
       "      <td>95 L</td>\n",
       "      <td>8000000.0</td>\n",
       "      <td>1365</td>\n",
       "      <td>1595</td>\n",
       "      <td>8000.0</td>\n",
       "    </tr>\n",
       "    <tr>\n",
       "      <th>4</th>\n",
       "      <td>Purva Skydale</td>\n",
       "      <td>76.25 L -1.75 Cr</td>\n",
       "      <td>1273-1371</td>\n",
       "      <td>2 BHK Apartment</td>\n",
       "      <td>76.25 L</td>\n",
       "      <td>1.75 Cr</td>\n",
       "      <td>12562500.0</td>\n",
       "      <td>1273</td>\n",
       "      <td>1371</td>\n",
       "      <td>12562.5</td>\n",
       "    </tr>\n",
       "  </tbody>\n",
       "</table>\n",
       "</div>"
      ],
      "text/plain": [
       "                       names             Price       Area          Unit Type  \\\n",
       "0  Salarpuria Sattva Cadenza     39 L -41.65 L        755    1 BHK Apartment   \n",
       "1  Salarpuria Sattva Cadenza        55 L -75 L  1175-1275    2 BHK Apartment   \n",
       "2  Salarpuria Sattva Cadenza  70.04 L -73.30 L  1335-1340  2.5 BHK Apartment   \n",
       "3  Salarpuria Sattva Cadenza        65 L -95 L  1365-1595    3 BHK Apartment   \n",
       "4              Purva Skydale  76.25 L -1.75 Cr  1273-1371    2 BHK Apartment   \n",
       "\n",
       "        Low     High    AvgPrice  LowArea  HighArea  AvgPrice in Thousands  \n",
       "0     39 L   41.65 L   4032500.0      755       755                 4032.5  \n",
       "1     55 L      75 L   6500000.0     1175      1275                 6500.0  \n",
       "2  70.04 L   73.30 L   7167000.0     1335      1340                 7167.0  \n",
       "3     65 L      95 L   8000000.0     1365      1595                 8000.0  \n",
       "4  76.25 L   1.75 Cr  12562500.0     1273      1371                12562.5  "
      ]
     },
     "execution_count": 18,
     "metadata": {},
     "output_type": "execute_result"
    }
   ],
   "source": [
    "data.head()"
   ]
  },
  {
   "cell_type": "code",
   "execution_count": 19,
   "metadata": {},
   "outputs": [],
   "source": [
    "tmp = ['Apartment', 'Plot', 'Studio BHK Apartment']\n",
    "data['Unit Type'] = data.apply(lambda row: '0 NA ' + row['Unit Type'] if row['Unit Type'] in tmp else row['Unit Type'], 1)"
   ]
  },
  {
   "cell_type": "code",
   "execution_count": 20,
   "metadata": {},
   "outputs": [],
   "source": [
    "data[['Rooms', 'Unit', 'Type']] = data['Unit Type'].str.extract(r'([\\d.]+) ([BHK, RK, NA]+) ([a-zA-Z\\s]+)', expand=True)"
   ]
  },
  {
   "cell_type": "code",
   "execution_count": 21,
   "metadata": {},
   "outputs": [],
   "source": [
    "# Drop unnecessary columns\n",
    "data = data.drop(['Price', 'Low', 'High', 'Area', 'Unit Type', 'AvgPrice'], 1)"
   ]
  },
  {
   "cell_type": "code",
   "execution_count": 22,
   "metadata": {},
   "outputs": [
    {
     "data": {
      "text/html": [
       "<div>\n",
       "<style scoped>\n",
       "    .dataframe tbody tr th:only-of-type {\n",
       "        vertical-align: middle;\n",
       "    }\n",
       "\n",
       "    .dataframe tbody tr th {\n",
       "        vertical-align: top;\n",
       "    }\n",
       "\n",
       "    .dataframe thead th {\n",
       "        text-align: right;\n",
       "    }\n",
       "</style>\n",
       "<table border=\"1\" class=\"dataframe\">\n",
       "  <thead>\n",
       "    <tr style=\"text-align: right;\">\n",
       "      <th></th>\n",
       "      <th>names</th>\n",
       "      <th>LowArea</th>\n",
       "      <th>HighArea</th>\n",
       "      <th>AvgPrice in Thousands</th>\n",
       "      <th>Rooms</th>\n",
       "      <th>Unit</th>\n",
       "      <th>Type</th>\n",
       "    </tr>\n",
       "  </thead>\n",
       "  <tbody>\n",
       "    <tr>\n",
       "      <th>0</th>\n",
       "      <td>Salarpuria Sattva Cadenza</td>\n",
       "      <td>755</td>\n",
       "      <td>755</td>\n",
       "      <td>4032.5</td>\n",
       "      <td>1</td>\n",
       "      <td>BHK</td>\n",
       "      <td>Apartment</td>\n",
       "    </tr>\n",
       "    <tr>\n",
       "      <th>1</th>\n",
       "      <td>Salarpuria Sattva Cadenza</td>\n",
       "      <td>1175</td>\n",
       "      <td>1275</td>\n",
       "      <td>6500.0</td>\n",
       "      <td>2</td>\n",
       "      <td>BHK</td>\n",
       "      <td>Apartment</td>\n",
       "    </tr>\n",
       "    <tr>\n",
       "      <th>2</th>\n",
       "      <td>Salarpuria Sattva Cadenza</td>\n",
       "      <td>1335</td>\n",
       "      <td>1340</td>\n",
       "      <td>7167.0</td>\n",
       "      <td>2.5</td>\n",
       "      <td>BHK</td>\n",
       "      <td>Apartment</td>\n",
       "    </tr>\n",
       "    <tr>\n",
       "      <th>3</th>\n",
       "      <td>Salarpuria Sattva Cadenza</td>\n",
       "      <td>1365</td>\n",
       "      <td>1595</td>\n",
       "      <td>8000.0</td>\n",
       "      <td>3</td>\n",
       "      <td>BHK</td>\n",
       "      <td>Apartment</td>\n",
       "    </tr>\n",
       "    <tr>\n",
       "      <th>4</th>\n",
       "      <td>Purva Skydale</td>\n",
       "      <td>1273</td>\n",
       "      <td>1371</td>\n",
       "      <td>12562.5</td>\n",
       "      <td>2</td>\n",
       "      <td>BHK</td>\n",
       "      <td>Apartment</td>\n",
       "    </tr>\n",
       "  </tbody>\n",
       "</table>\n",
       "</div>"
      ],
      "text/plain": [
       "                       names  LowArea  HighArea  AvgPrice in Thousands Rooms  \\\n",
       "0  Salarpuria Sattva Cadenza      755       755                 4032.5     1   \n",
       "1  Salarpuria Sattva Cadenza     1175      1275                 6500.0     2   \n",
       "2  Salarpuria Sattva Cadenza     1335      1340                 7167.0   2.5   \n",
       "3  Salarpuria Sattva Cadenza     1365      1595                 8000.0     3   \n",
       "4              Purva Skydale     1273      1371                12562.5     2   \n",
       "\n",
       "  Unit       Type  \n",
       "0  BHK  Apartment  \n",
       "1  BHK  Apartment  \n",
       "2  BHK  Apartment  \n",
       "3  BHK  Apartment  \n",
       "4  BHK  Apartment  "
      ]
     },
     "execution_count": 22,
     "metadata": {},
     "output_type": "execute_result"
    }
   ],
   "source": [
    "data.head()"
   ]
  },
  {
   "cell_type": "code",
   "execution_count": 23,
   "metadata": {},
   "outputs": [
    {
     "data": {
      "text/plain": [
       "(2393, 7)"
      ]
     },
     "execution_count": 23,
     "metadata": {},
     "output_type": "execute_result"
    }
   ],
   "source": [
    "data.shape"
   ]
  },
  {
   "cell_type": "code",
   "execution_count": 24,
   "metadata": {},
   "outputs": [],
   "source": [
    "data.dropna(inplace=True)"
   ]
  },
  {
   "cell_type": "code",
   "execution_count": 25,
   "metadata": {},
   "outputs": [
    {
     "data": {
      "text/plain": [
       "names                    0\n",
       "LowArea                  0\n",
       "HighArea                 0\n",
       "AvgPrice in Thousands    0\n",
       "Rooms                    0\n",
       "Unit                     0\n",
       "Type                     0\n",
       "dtype: int64"
      ]
     },
     "execution_count": 25,
     "metadata": {},
     "output_type": "execute_result"
    }
   ],
   "source": [
    "data.isnull().sum()"
   ]
  },
  {
   "cell_type": "code",
   "execution_count": 26,
   "metadata": {},
   "outputs": [
    {
     "data": {
      "text/plain": [
       "array(['1', '2', '2.5', '3', '4', '0.5', '3.5', '5', '1.5', '0', '6',\n",
       "       '4.5'], dtype=object)"
      ]
     },
     "execution_count": 26,
     "metadata": {},
     "output_type": "execute_result"
    }
   ],
   "source": [
    "data['Rooms'].unique()"
   ]
  },
  {
   "cell_type": "code",
   "execution_count": 27,
   "metadata": {},
   "outputs": [
    {
     "data": {
      "text/plain": [
       "array(['BHK', 'NA', 'RK', 'RK BHK'], dtype=object)"
      ]
     },
     "execution_count": 27,
     "metadata": {},
     "output_type": "execute_result"
    }
   ],
   "source": [
    "data['Unit'].unique()"
   ]
  },
  {
   "cell_type": "code",
   "execution_count": 28,
   "metadata": {},
   "outputs": [
    {
     "data": {
      "text/plain": [
       "array(['Apartment', 'PentHouse', 'Villa', 'Plot', 'StudioApartment',\n",
       "       'RowHouse', 'Studio BHK Apartment', 'TownHouse', 'Villament'],\n",
       "      dtype=object)"
      ]
     },
     "execution_count": 28,
     "metadata": {},
     "output_type": "execute_result"
    }
   ],
   "source": [
    "data['Type'].unique()"
   ]
  },
  {
   "cell_type": "code",
   "execution_count": 29,
   "metadata": {},
   "outputs": [],
   "source": [
    "data = data.astype({'Rooms': 'float'})"
   ]
  },
  {
   "cell_type": "code",
   "execution_count": 30,
   "metadata": {},
   "outputs": [
    {
     "data": {
      "text/plain": [
       "names                     object\n",
       "LowArea                    int32\n",
       "HighArea                   int64\n",
       "AvgPrice in Thousands    float64\n",
       "Rooms                    float64\n",
       "Unit                      object\n",
       "Type                      object\n",
       "dtype: object"
      ]
     },
     "execution_count": 30,
     "metadata": {},
     "output_type": "execute_result"
    }
   ],
   "source": [
    "data.dtypes"
   ]
  },
  {
   "cell_type": "markdown",
   "metadata": {},
   "source": [
    "Now let us combine the location information from with the main dataset."
   ]
  },
  {
   "cell_type": "code",
   "execution_count": 31,
   "metadata": {},
   "outputs": [],
   "source": [
    "location['names'] = location['names'].str.replace(' bangalore', '')\n",
    "location = location.drop(['geometry'], 1)"
   ]
  },
  {
   "cell_type": "code",
   "execution_count": 32,
   "metadata": {},
   "outputs": [
    {
     "data": {
      "text/html": [
       "<div>\n",
       "<style scoped>\n",
       "    .dataframe tbody tr th:only-of-type {\n",
       "        vertical-align: middle;\n",
       "    }\n",
       "\n",
       "    .dataframe tbody tr th {\n",
       "        vertical-align: top;\n",
       "    }\n",
       "\n",
       "    .dataframe thead th {\n",
       "        text-align: right;\n",
       "    }\n",
       "</style>\n",
       "<table border=\"1\" class=\"dataframe\">\n",
       "  <thead>\n",
       "    <tr style=\"text-align: right;\">\n",
       "      <th></th>\n",
       "      <th>names</th>\n",
       "      <th>lat</th>\n",
       "      <th>lon</th>\n",
       "    </tr>\n",
       "  </thead>\n",
       "  <tbody>\n",
       "    <tr>\n",
       "      <th>0</th>\n",
       "      <td>Purva Skydale</td>\n",
       "      <td>12.894033</td>\n",
       "      <td>77.662362</td>\n",
       "    </tr>\n",
       "    <tr>\n",
       "      <th>1</th>\n",
       "      <td>Salarpuria Sattva Cadenza</td>\n",
       "      <td>12.889441</td>\n",
       "      <td>77.640221</td>\n",
       "    </tr>\n",
       "    <tr>\n",
       "      <th>2</th>\n",
       "      <td>Shriram Summitt</td>\n",
       "      <td>12.836068</td>\n",
       "      <td>77.667242</td>\n",
       "    </tr>\n",
       "    <tr>\n",
       "      <th>3</th>\n",
       "      <td>Shriram Luxor</td>\n",
       "      <td>13.085249</td>\n",
       "      <td>77.654915</td>\n",
       "    </tr>\n",
       "    <tr>\n",
       "      <th>4</th>\n",
       "      <td>Ecolife Elements Of Nature</td>\n",
       "      <td>12.938728</td>\n",
       "      <td>77.731126</td>\n",
       "    </tr>\n",
       "  </tbody>\n",
       "</table>\n",
       "</div>"
      ],
      "text/plain": [
       "                        names        lat        lon\n",
       "0               Purva Skydale  12.894033  77.662362\n",
       "1   Salarpuria Sattva Cadenza  12.889441  77.640221\n",
       "2             Shriram Summitt  12.836068  77.667242\n",
       "3               Shriram Luxor  13.085249  77.654915\n",
       "4  Ecolife Elements Of Nature  12.938728  77.731126"
      ]
     },
     "execution_count": 32,
     "metadata": {},
     "output_type": "execute_result"
    }
   ],
   "source": [
    "location.head(5)"
   ]
  },
  {
   "cell_type": "code",
   "execution_count": 33,
   "metadata": {},
   "outputs": [],
   "source": [
    "df = pd.merge(data, location, on=['names'], how='left')"
   ]
  },
  {
   "cell_type": "code",
   "execution_count": 34,
   "metadata": {},
   "outputs": [
    {
     "data": {
      "text/html": [
       "<div>\n",
       "<style scoped>\n",
       "    .dataframe tbody tr th:only-of-type {\n",
       "        vertical-align: middle;\n",
       "    }\n",
       "\n",
       "    .dataframe tbody tr th {\n",
       "        vertical-align: top;\n",
       "    }\n",
       "\n",
       "    .dataframe thead th {\n",
       "        text-align: right;\n",
       "    }\n",
       "</style>\n",
       "<table border=\"1\" class=\"dataframe\">\n",
       "  <thead>\n",
       "    <tr style=\"text-align: right;\">\n",
       "      <th></th>\n",
       "      <th>names</th>\n",
       "      <th>LowArea</th>\n",
       "      <th>HighArea</th>\n",
       "      <th>AvgPrice in Thousands</th>\n",
       "      <th>Rooms</th>\n",
       "      <th>Unit</th>\n",
       "      <th>Type</th>\n",
       "      <th>lat</th>\n",
       "      <th>lon</th>\n",
       "    </tr>\n",
       "  </thead>\n",
       "  <tbody>\n",
       "    <tr>\n",
       "      <th>0</th>\n",
       "      <td>Salarpuria Sattva Cadenza</td>\n",
       "      <td>755</td>\n",
       "      <td>755</td>\n",
       "      <td>4032.5</td>\n",
       "      <td>1.0</td>\n",
       "      <td>BHK</td>\n",
       "      <td>Apartment</td>\n",
       "      <td>12.889441</td>\n",
       "      <td>77.640221</td>\n",
       "    </tr>\n",
       "    <tr>\n",
       "      <th>1</th>\n",
       "      <td>Salarpuria Sattva Cadenza</td>\n",
       "      <td>1175</td>\n",
       "      <td>1275</td>\n",
       "      <td>6500.0</td>\n",
       "      <td>2.0</td>\n",
       "      <td>BHK</td>\n",
       "      <td>Apartment</td>\n",
       "      <td>12.889441</td>\n",
       "      <td>77.640221</td>\n",
       "    </tr>\n",
       "    <tr>\n",
       "      <th>2</th>\n",
       "      <td>Salarpuria Sattva Cadenza</td>\n",
       "      <td>1335</td>\n",
       "      <td>1340</td>\n",
       "      <td>7167.0</td>\n",
       "      <td>2.5</td>\n",
       "      <td>BHK</td>\n",
       "      <td>Apartment</td>\n",
       "      <td>12.889441</td>\n",
       "      <td>77.640221</td>\n",
       "    </tr>\n",
       "    <tr>\n",
       "      <th>3</th>\n",
       "      <td>Salarpuria Sattva Cadenza</td>\n",
       "      <td>1365</td>\n",
       "      <td>1595</td>\n",
       "      <td>8000.0</td>\n",
       "      <td>3.0</td>\n",
       "      <td>BHK</td>\n",
       "      <td>Apartment</td>\n",
       "      <td>12.889441</td>\n",
       "      <td>77.640221</td>\n",
       "    </tr>\n",
       "    <tr>\n",
       "      <th>4</th>\n",
       "      <td>Purva Skydale</td>\n",
       "      <td>1273</td>\n",
       "      <td>1371</td>\n",
       "      <td>12562.5</td>\n",
       "      <td>2.0</td>\n",
       "      <td>BHK</td>\n",
       "      <td>Apartment</td>\n",
       "      <td>12.894033</td>\n",
       "      <td>77.662362</td>\n",
       "    </tr>\n",
       "  </tbody>\n",
       "</table>\n",
       "</div>"
      ],
      "text/plain": [
       "                       names  LowArea  HighArea  AvgPrice in Thousands  Rooms  \\\n",
       "0  Salarpuria Sattva Cadenza      755       755                 4032.5    1.0   \n",
       "1  Salarpuria Sattva Cadenza     1175      1275                 6500.0    2.0   \n",
       "2  Salarpuria Sattva Cadenza     1335      1340                 7167.0    2.5   \n",
       "3  Salarpuria Sattva Cadenza     1365      1595                 8000.0    3.0   \n",
       "4              Purva Skydale     1273      1371                12562.5    2.0   \n",
       "\n",
       "  Unit       Type        lat        lon  \n",
       "0  BHK  Apartment  12.889441  77.640221  \n",
       "1  BHK  Apartment  12.889441  77.640221  \n",
       "2  BHK  Apartment  12.889441  77.640221  \n",
       "3  BHK  Apartment  12.889441  77.640221  \n",
       "4  BHK  Apartment  12.894033  77.662362  "
      ]
     },
     "execution_count": 34,
     "metadata": {},
     "output_type": "execute_result"
    }
   ],
   "source": [
    "df.head()"
   ]
  },
  {
   "cell_type": "code",
   "execution_count": 35,
   "metadata": {},
   "outputs": [
    {
     "data": {
      "text/plain": [
       "names                      0\n",
       "LowArea                    0\n",
       "HighArea                   0\n",
       "AvgPrice in Thousands      0\n",
       "Rooms                      0\n",
       "Unit                       0\n",
       "Type                       0\n",
       "lat                      261\n",
       "lon                      261\n",
       "dtype: int64"
      ]
     },
     "execution_count": 35,
     "metadata": {},
     "output_type": "execute_result"
    }
   ],
   "source": [
    "df.isnull().sum()"
   ]
  },
  {
   "cell_type": "code",
   "execution_count": 36,
   "metadata": {},
   "outputs": [],
   "source": [
    "df.dropna(inplace=True)"
   ]
  },
  {
   "cell_type": "code",
   "execution_count": 37,
   "metadata": {},
   "outputs": [
    {
     "data": {
      "text/plain": [
       "(2297, 9)"
      ]
     },
     "execution_count": 37,
     "metadata": {},
     "output_type": "execute_result"
    }
   ],
   "source": [
    "df.shape"
   ]
  },
  {
   "cell_type": "code",
   "execution_count": 38,
   "metadata": {},
   "outputs": [],
   "source": [
    "df = df.reset_index(drop=True)"
   ]
  },
  {
   "cell_type": "code",
   "execution_count": 39,
   "metadata": {
    "scrolled": true
   },
   "outputs": [
    {
     "data": {
      "text/html": [
       "<div>\n",
       "<style scoped>\n",
       "    .dataframe tbody tr th:only-of-type {\n",
       "        vertical-align: middle;\n",
       "    }\n",
       "\n",
       "    .dataframe tbody tr th {\n",
       "        vertical-align: top;\n",
       "    }\n",
       "\n",
       "    .dataframe thead th {\n",
       "        text-align: right;\n",
       "    }\n",
       "</style>\n",
       "<table border=\"1\" class=\"dataframe\">\n",
       "  <thead>\n",
       "    <tr style=\"text-align: right;\">\n",
       "      <th></th>\n",
       "      <th>names</th>\n",
       "      <th>LowArea</th>\n",
       "      <th>HighArea</th>\n",
       "      <th>AvgPrice in Thousands</th>\n",
       "      <th>Rooms</th>\n",
       "      <th>Unit</th>\n",
       "      <th>Type</th>\n",
       "      <th>lat</th>\n",
       "      <th>lon</th>\n",
       "    </tr>\n",
       "  </thead>\n",
       "  <tbody>\n",
       "    <tr>\n",
       "      <th>0</th>\n",
       "      <td>Salarpuria Sattva Cadenza</td>\n",
       "      <td>755</td>\n",
       "      <td>755</td>\n",
       "      <td>4032.5</td>\n",
       "      <td>1.0</td>\n",
       "      <td>BHK</td>\n",
       "      <td>Apartment</td>\n",
       "      <td>12.889441</td>\n",
       "      <td>77.640221</td>\n",
       "    </tr>\n",
       "    <tr>\n",
       "      <th>1</th>\n",
       "      <td>Salarpuria Sattva Cadenza</td>\n",
       "      <td>1175</td>\n",
       "      <td>1275</td>\n",
       "      <td>6500.0</td>\n",
       "      <td>2.0</td>\n",
       "      <td>BHK</td>\n",
       "      <td>Apartment</td>\n",
       "      <td>12.889441</td>\n",
       "      <td>77.640221</td>\n",
       "    </tr>\n",
       "    <tr>\n",
       "      <th>2</th>\n",
       "      <td>Salarpuria Sattva Cadenza</td>\n",
       "      <td>1335</td>\n",
       "      <td>1340</td>\n",
       "      <td>7167.0</td>\n",
       "      <td>2.5</td>\n",
       "      <td>BHK</td>\n",
       "      <td>Apartment</td>\n",
       "      <td>12.889441</td>\n",
       "      <td>77.640221</td>\n",
       "    </tr>\n",
       "    <tr>\n",
       "      <th>3</th>\n",
       "      <td>Salarpuria Sattva Cadenza</td>\n",
       "      <td>1365</td>\n",
       "      <td>1595</td>\n",
       "      <td>8000.0</td>\n",
       "      <td>3.0</td>\n",
       "      <td>BHK</td>\n",
       "      <td>Apartment</td>\n",
       "      <td>12.889441</td>\n",
       "      <td>77.640221</td>\n",
       "    </tr>\n",
       "    <tr>\n",
       "      <th>4</th>\n",
       "      <td>Purva Skydale</td>\n",
       "      <td>1273</td>\n",
       "      <td>1371</td>\n",
       "      <td>12562.5</td>\n",
       "      <td>2.0</td>\n",
       "      <td>BHK</td>\n",
       "      <td>Apartment</td>\n",
       "      <td>12.894033</td>\n",
       "      <td>77.662362</td>\n",
       "    </tr>\n",
       "  </tbody>\n",
       "</table>\n",
       "</div>"
      ],
      "text/plain": [
       "                       names  LowArea  HighArea  AvgPrice in Thousands  Rooms  \\\n",
       "0  Salarpuria Sattva Cadenza      755       755                 4032.5    1.0   \n",
       "1  Salarpuria Sattva Cadenza     1175      1275                 6500.0    2.0   \n",
       "2  Salarpuria Sattva Cadenza     1335      1340                 7167.0    2.5   \n",
       "3  Salarpuria Sattva Cadenza     1365      1595                 8000.0    3.0   \n",
       "4              Purva Skydale     1273      1371                12562.5    2.0   \n",
       "\n",
       "  Unit       Type        lat        lon  \n",
       "0  BHK  Apartment  12.889441  77.640221  \n",
       "1  BHK  Apartment  12.889441  77.640221  \n",
       "2  BHK  Apartment  12.889441  77.640221  \n",
       "3  BHK  Apartment  12.889441  77.640221  \n",
       "4  BHK  Apartment  12.894033  77.662362  "
      ]
     },
     "execution_count": 39,
     "metadata": {},
     "output_type": "execute_result"
    }
   ],
   "source": [
    "df.head()"
   ]
  },
  {
   "cell_type": "code",
   "execution_count": 40,
   "metadata": {},
   "outputs": [],
   "source": [
    "apartments = df[['names', 'lat', 'lon']][:50].drop_duplicates().reset_index(drop=True)"
   ]
  },
  {
   "cell_type": "code",
   "execution_count": 41,
   "metadata": {},
   "outputs": [
    {
     "data": {
      "text/plain": [
       "array(['Salarpuria Sattva Cadenza', 'Purva Skydale', 'Shriram Summitt',\n",
       "       'Shriram Luxor', 'Salarpuria Sattva East Crest',\n",
       "       'Ecolife Elements Of Nature', 'Shriram Greenfield Phase 1',\n",
       "       'Provident Sunworth', 'Century Infiniti', 'DSMAX SAROVAR',\n",
       "       'Vaswani Exquisite', 'Bren Edgewaters', 'Vaishnavi Gardenia',\n",
       "       'Sobha Avenue', 'Nandi Citadel', 'Purva Northern Waves',\n",
       "       'Prestige Falcon City', 'Bren Imperia', 'Mahaveer Ranches'],\n",
       "      dtype=object)"
      ]
     },
     "execution_count": 41,
     "metadata": {},
     "output_type": "execute_result"
    }
   ],
   "source": [
    "apartments['names'].unique()"
   ]
  },
  {
   "cell_type": "markdown",
   "metadata": {},
   "source": [
    "## 4. Exploratory Data Analysis <a name=\"eda\"></a>"
   ]
  },
  {
   "cell_type": "markdown",
   "metadata": {},
   "source": [
    "First let us analyze how many popular venues are nearby an apartment through Foursquare API."
   ]
  },
  {
   "cell_type": "markdown",
   "metadata": {},
   "source": [
    "**NOTE:** As we have restrictions on the number of requests to the Foursquare API we will utilize the API for analyzing the top 50 data points."
   ]
  },
  {
   "cell_type": "code",
   "execution_count": 42,
   "metadata": {},
   "outputs": [],
   "source": [
    "import requests\n",
    "from pandas.io.json import json_normalize"
   ]
  },
  {
   "cell_type": "code",
   "execution_count": 43,
   "metadata": {},
   "outputs": [],
   "source": [
    "CLIENT_ID = 'CKW2SWATVUAYETIATITE1LVHNRFOUWPB4IYXFD0NL3JW3Q0U'\n",
    "CLIENT_SECRET = 'POPTT4EJBJOOSLKKQP5TS4CB3UHDDW2RV4BCE32B1GEKIPE1'\n",
    "VERSION = '20180604'\n",
    "LIMIT = 100"
   ]
  },
  {
   "cell_type": "code",
   "execution_count": 44,
   "metadata": {},
   "outputs": [],
   "source": [
    "def getNearbyVenues(names, latitudes, longitudes, radius=500):\n",
    "    j = 0\n",
    "    venues_list=[]\n",
    "    for name, lat, lng in zip(names, latitudes, longitudes):\n",
    "#         print(j, name)\n",
    "        j = j+1\n",
    "        # create the API request URL\n",
    "        url = 'https://api.foursquare.com/v2/venues/explore?&client_id={}&client_secret={}&v={}&ll={},{}&radius={}&limit={}'.format(\n",
    "            CLIENT_ID, \n",
    "            CLIENT_SECRET, \n",
    "            VERSION, \n",
    "            lat, \n",
    "            lng, \n",
    "            radius, \n",
    "            LIMIT)\n",
    "        \n",
    "        # make the GET request\n",
    "        results = requests.get(url).json()[\"response\"]['groups'][0]['items']\n",
    "        \n",
    "        # return only relevant information for each nearby venue\n",
    "        venues_list.append([(\n",
    "            name, \n",
    "            lat, \n",
    "            lng, \n",
    "            v['venue']['name'], \n",
    "            v['venue']['location']['lat'], \n",
    "            v['venue']['location']['lng'],  \n",
    "            v['venue']['categories'][0]['name']) for v in results])\n",
    "\n",
    "    nearby_venues = pd.DataFrame([item for venue_list in venues_list for item in venue_list])\n",
    "    nearby_venues.columns = ['name', \n",
    "                  'lat', \n",
    "                  'lon', \n",
    "                  'venue', \n",
    "                  'venue_lat', \n",
    "                  'venue_lon', \n",
    "                  'venue_category']\n",
    "    \n",
    "    return(nearby_venues)"
   ]
  },
  {
   "cell_type": "markdown",
   "metadata": {},
   "source": [
    "We pass our minimal dataframe to the function which retrieves the category of venues nearby."
   ]
  },
  {
   "cell_type": "code",
   "execution_count": 45,
   "metadata": {},
   "outputs": [],
   "source": [
    "res = getNearbyVenues(names=apartments['names'], latitudes=apartments['lat'], longitudes=apartments['lon'])\n",
    "nearby = res.groupby('name')['venue_category'].nunique()"
   ]
  },
  {
   "cell_type": "code",
   "execution_count": 46,
   "metadata": {},
   "outputs": [],
   "source": [
    "venues = res.merge(res.groupby('name')['venue_category'].nunique().reset_index(), on='name', how='left')"
   ]
  },
  {
   "cell_type": "code",
   "execution_count": 47,
   "metadata": {},
   "outputs": [],
   "source": [
    "venues = venues.drop(['venue_category_x'], 1)\n",
    "venues = venues.rename(columns={'venue_category_y': 'venue_count'})"
   ]
  },
  {
   "cell_type": "code",
   "execution_count": 48,
   "metadata": {},
   "outputs": [
    {
     "data": {
      "text/html": [
       "<div>\n",
       "<style scoped>\n",
       "    .dataframe tbody tr th:only-of-type {\n",
       "        vertical-align: middle;\n",
       "    }\n",
       "\n",
       "    .dataframe tbody tr th {\n",
       "        vertical-align: top;\n",
       "    }\n",
       "\n",
       "    .dataframe thead th {\n",
       "        text-align: right;\n",
       "    }\n",
       "</style>\n",
       "<table border=\"1\" class=\"dataframe\">\n",
       "  <thead>\n",
       "    <tr style=\"text-align: right;\">\n",
       "      <th></th>\n",
       "      <th>name</th>\n",
       "      <th>lat</th>\n",
       "      <th>lon</th>\n",
       "      <th>venue</th>\n",
       "      <th>venue_lat</th>\n",
       "      <th>venue_lon</th>\n",
       "      <th>venue_count</th>\n",
       "    </tr>\n",
       "  </thead>\n",
       "  <tbody>\n",
       "    <tr>\n",
       "      <th>0</th>\n",
       "      <td>Salarpuria Sattva Cadenza</td>\n",
       "      <td>12.889441</td>\n",
       "      <td>77.640221</td>\n",
       "      <td>cafe coffee day</td>\n",
       "      <td>12.891633</td>\n",
       "      <td>77.641196</td>\n",
       "      <td>7</td>\n",
       "    </tr>\n",
       "    <tr>\n",
       "      <th>1</th>\n",
       "      <td>Salarpuria Sattva Cadenza</td>\n",
       "      <td>12.889441</td>\n",
       "      <td>77.640221</td>\n",
       "      <td>Sri Krishna Sagar</td>\n",
       "      <td>12.889989</td>\n",
       "      <td>77.639571</td>\n",
       "      <td>7</td>\n",
       "    </tr>\n",
       "    <tr>\n",
       "      <th>2</th>\n",
       "      <td>Salarpuria Sattva Cadenza</td>\n",
       "      <td>12.889441</td>\n",
       "      <td>77.640221</td>\n",
       "      <td>Melange</td>\n",
       "      <td>12.889850</td>\n",
       "      <td>77.639655</td>\n",
       "      <td>7</td>\n",
       "    </tr>\n",
       "    <tr>\n",
       "      <th>3</th>\n",
       "      <td>Salarpuria Sattva Cadenza</td>\n",
       "      <td>12.889441</td>\n",
       "      <td>77.640221</td>\n",
       "      <td>Eeka Melange</td>\n",
       "      <td>12.889854</td>\n",
       "      <td>77.639615</td>\n",
       "      <td>7</td>\n",
       "    </tr>\n",
       "    <tr>\n",
       "      <th>4</th>\n",
       "      <td>Salarpuria Sattva Cadenza</td>\n",
       "      <td>12.889441</td>\n",
       "      <td>77.640221</td>\n",
       "      <td>Krishna Sagar Greens</td>\n",
       "      <td>12.890109</td>\n",
       "      <td>77.639683</td>\n",
       "      <td>7</td>\n",
       "    </tr>\n",
       "  </tbody>\n",
       "</table>\n",
       "</div>"
      ],
      "text/plain": [
       "                        name        lat        lon                 venue  \\\n",
       "0  Salarpuria Sattva Cadenza  12.889441  77.640221       cafe coffee day   \n",
       "1  Salarpuria Sattva Cadenza  12.889441  77.640221     Sri Krishna Sagar   \n",
       "2  Salarpuria Sattva Cadenza  12.889441  77.640221               Melange   \n",
       "3  Salarpuria Sattva Cadenza  12.889441  77.640221          Eeka Melange   \n",
       "4  Salarpuria Sattva Cadenza  12.889441  77.640221  Krishna Sagar Greens   \n",
       "\n",
       "   venue_lat  venue_lon  venue_count  \n",
       "0  12.891633  77.641196            7  \n",
       "1  12.889989  77.639571            7  \n",
       "2  12.889850  77.639655            7  \n",
       "3  12.889854  77.639615            7  \n",
       "4  12.890109  77.639683            7  "
      ]
     },
     "execution_count": 48,
     "metadata": {},
     "output_type": "execute_result"
    }
   ],
   "source": [
    "venues.head()"
   ]
  },
  {
   "cell_type": "code",
   "execution_count": 49,
   "metadata": {},
   "outputs": [],
   "source": [
    "venue_max = venues['venue_count'].max()"
   ]
  },
  {
   "cell_type": "code",
   "execution_count": 50,
   "metadata": {},
   "outputs": [],
   "source": [
    "def opacityPicker(count):\n",
    "    return count/venue_max "
   ]
  },
  {
   "cell_type": "code",
   "execution_count": 51,
   "metadata": {},
   "outputs": [],
   "source": [
    "def colorPicker(count):\n",
    "#     If an apartment has more venues nearby we color it red\n",
    "    if count/venue_max > 0.75:\n",
    "        return 'red'\n",
    "    else:\n",
    "        return 'green'"
   ]
  },
  {
   "cell_type": "code",
   "execution_count": 52,
   "metadata": {},
   "outputs": [
    {
     "data": {
      "text/html": [
       "<div style=\"width:100%;\"><div style=\"position:relative;width:100%;height:0;padding-bottom:60%;\"><iframe src=\"data:text/html;charset=utf-8;base64,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\" style=\"position:absolute;width:100%;height:100%;left:0;top:0;border:none !important;\" allowfullscreen webkitallowfullscreen mozallowfullscreen></iframe></div></div>"
      ],
      "text/plain": [
       "<folium.folium.Map at 0x1b12c197240>"
      ]
     },
     "execution_count": 52,
     "metadata": {},
     "output_type": "execute_result"
    }
   ],
   "source": [
    "bengaluru = folium.Map(location=[12.9716, 77.5946], zoom_start=10)\n",
    "\n",
    "for name, lat, lon, count in zip(venues['name'], venues['lat'], venues['lon'], venues['venue_count']):\n",
    "    folium.CircleMarker(\n",
    "        [lat, lon],\n",
    "        radius=7,\n",
    "        color=colorPicker(count),\n",
    "        fill_opacity=opacityPicker(count),\n",
    "        fill=True,\n",
    "        popup=f'{name}, {count}',\n",
    "        parse_html=False).add_to(bengaluru) \n",
    "    \n",
    "bengaluru"
   ]
  },
  {
   "cell_type": "markdown",
   "metadata": {},
   "source": [
    "Now coming back to our final dataset which we have prepared. We will make use of this dataframe to predict prices of the apartments."
   ]
  },
  {
   "cell_type": "code",
   "execution_count": 53,
   "metadata": {},
   "outputs": [
    {
     "data": {
      "text/html": [
       "<div>\n",
       "<style scoped>\n",
       "    .dataframe tbody tr th:only-of-type {\n",
       "        vertical-align: middle;\n",
       "    }\n",
       "\n",
       "    .dataframe tbody tr th {\n",
       "        vertical-align: top;\n",
       "    }\n",
       "\n",
       "    .dataframe thead th {\n",
       "        text-align: right;\n",
       "    }\n",
       "</style>\n",
       "<table border=\"1\" class=\"dataframe\">\n",
       "  <thead>\n",
       "    <tr style=\"text-align: right;\">\n",
       "      <th></th>\n",
       "      <th>names</th>\n",
       "      <th>LowArea</th>\n",
       "      <th>HighArea</th>\n",
       "      <th>AvgPrice in Thousands</th>\n",
       "      <th>Rooms</th>\n",
       "      <th>Unit</th>\n",
       "      <th>Type</th>\n",
       "      <th>lat</th>\n",
       "      <th>lon</th>\n",
       "    </tr>\n",
       "  </thead>\n",
       "  <tbody>\n",
       "    <tr>\n",
       "      <th>0</th>\n",
       "      <td>Salarpuria Sattva Cadenza</td>\n",
       "      <td>755</td>\n",
       "      <td>755</td>\n",
       "      <td>4032.5</td>\n",
       "      <td>1.0</td>\n",
       "      <td>BHK</td>\n",
       "      <td>Apartment</td>\n",
       "      <td>12.889441</td>\n",
       "      <td>77.640221</td>\n",
       "    </tr>\n",
       "    <tr>\n",
       "      <th>1</th>\n",
       "      <td>Salarpuria Sattva Cadenza</td>\n",
       "      <td>1175</td>\n",
       "      <td>1275</td>\n",
       "      <td>6500.0</td>\n",
       "      <td>2.0</td>\n",
       "      <td>BHK</td>\n",
       "      <td>Apartment</td>\n",
       "      <td>12.889441</td>\n",
       "      <td>77.640221</td>\n",
       "    </tr>\n",
       "    <tr>\n",
       "      <th>2</th>\n",
       "      <td>Salarpuria Sattva Cadenza</td>\n",
       "      <td>1335</td>\n",
       "      <td>1340</td>\n",
       "      <td>7167.0</td>\n",
       "      <td>2.5</td>\n",
       "      <td>BHK</td>\n",
       "      <td>Apartment</td>\n",
       "      <td>12.889441</td>\n",
       "      <td>77.640221</td>\n",
       "    </tr>\n",
       "    <tr>\n",
       "      <th>3</th>\n",
       "      <td>Salarpuria Sattva Cadenza</td>\n",
       "      <td>1365</td>\n",
       "      <td>1595</td>\n",
       "      <td>8000.0</td>\n",
       "      <td>3.0</td>\n",
       "      <td>BHK</td>\n",
       "      <td>Apartment</td>\n",
       "      <td>12.889441</td>\n",
       "      <td>77.640221</td>\n",
       "    </tr>\n",
       "    <tr>\n",
       "      <th>4</th>\n",
       "      <td>Purva Skydale</td>\n",
       "      <td>1273</td>\n",
       "      <td>1371</td>\n",
       "      <td>12562.5</td>\n",
       "      <td>2.0</td>\n",
       "      <td>BHK</td>\n",
       "      <td>Apartment</td>\n",
       "      <td>12.894033</td>\n",
       "      <td>77.662362</td>\n",
       "    </tr>\n",
       "  </tbody>\n",
       "</table>\n",
       "</div>"
      ],
      "text/plain": [
       "                       names  LowArea  HighArea  AvgPrice in Thousands  Rooms  \\\n",
       "0  Salarpuria Sattva Cadenza      755       755                 4032.5    1.0   \n",
       "1  Salarpuria Sattva Cadenza     1175      1275                 6500.0    2.0   \n",
       "2  Salarpuria Sattva Cadenza     1335      1340                 7167.0    2.5   \n",
       "3  Salarpuria Sattva Cadenza     1365      1595                 8000.0    3.0   \n",
       "4              Purva Skydale     1273      1371                12562.5    2.0   \n",
       "\n",
       "  Unit       Type        lat        lon  \n",
       "0  BHK  Apartment  12.889441  77.640221  \n",
       "1  BHK  Apartment  12.889441  77.640221  \n",
       "2  BHK  Apartment  12.889441  77.640221  \n",
       "3  BHK  Apartment  12.889441  77.640221  \n",
       "4  BHK  Apartment  12.894033  77.662362  "
      ]
     },
     "execution_count": 53,
     "metadata": {},
     "output_type": "execute_result"
    }
   ],
   "source": [
    "df.head()"
   ]
  },
  {
   "cell_type": "markdown",
   "metadata": {},
   "source": [
    "Let us check for the different building types in our dataset and their distribution."
   ]
  },
  {
   "cell_type": "code",
   "execution_count": 54,
   "metadata": {},
   "outputs": [
    {
     "data": {
      "text/plain": [
       "<matplotlib.axes._subplots.AxesSubplot at 0x1b12c01fa58>"
      ]
     },
     "execution_count": 54,
     "metadata": {},
     "output_type": "execute_result"
    },
    {
     "data": {
      "image/png": "[encoded data removed]",
      "text/plain": [
       "<Figure size 1080x360 with 1 Axes>"
      ]
     },
     "metadata": {
      "needs_background": "light"
     },
     "output_type": "display_data"
    }
   ],
   "source": [
    "plt.figure(figsize=(15, 5))\n",
    "sns.countplot(df['Type'])"
   ]
  },
  {
   "cell_type": "markdown",
   "metadata": {},
   "source": [
    "Now let us check for the distribution of our target. We can clearly see that our target column in right skewed. We need to handle skewness for better accuracy."
   ]
  },
  {
   "cell_type": "code",
   "execution_count": 55,
   "metadata": {},
   "outputs": [
    {
     "data": {
      "text/plain": [
       "<matplotlib.axes._subplots.AxesSubplot at 0x1b12e2dbc18>"
      ]
     },
     "execution_count": 55,
     "metadata": {},
     "output_type": "execute_result"
    },
    {
     "data": {
      "image/png": "[encoded data removed]",
      "text/plain": [
       "<Figure size 432x288 with 1 Axes>"
      ]
     },
     "metadata": {
      "needs_background": "light"
     },
     "output_type": "display_data"
    }
   ],
   "source": [
    "sns.distplot(df['AvgPrice in Thousands'])"
   ]
  },
  {
   "cell_type": "code",
   "execution_count": 56,
   "metadata": {},
   "outputs": [],
   "source": [
    "df = df.drop(['names', 'lat', 'lon'], 1)"
   ]
  },
  {
   "cell_type": "code",
   "execution_count": 57,
   "metadata": {},
   "outputs": [
    {
     "data": {
      "text/plain": [
       "LowArea                    int32\n",
       "HighArea                   int64\n",
       "AvgPrice in Thousands    float64\n",
       "Rooms                    float64\n",
       "Unit                      object\n",
       "Type                      object\n",
       "dtype: object"
      ]
     },
     "execution_count": 57,
     "metadata": {},
     "output_type": "execute_result"
    }
   ],
   "source": [
    "df.dtypes"
   ]
  },
  {
   "cell_type": "code",
   "execution_count": 58,
   "metadata": {},
   "outputs": [],
   "source": [
    "df = pd.get_dummies(df, columns=df.select_dtypes('object').columns)"
   ]
  },
  {
   "cell_type": "code",
   "execution_count": 59,
   "metadata": {},
   "outputs": [
    {
     "data": {
      "text/html": [
       "<div>\n",
       "<style scoped>\n",
       "    .dataframe tbody tr th:only-of-type {\n",
       "        vertical-align: middle;\n",
       "    }\n",
       "\n",
       "    .dataframe tbody tr th {\n",
       "        vertical-align: top;\n",
       "    }\n",
       "\n",
       "    .dataframe thead th {\n",
       "        text-align: right;\n",
       "    }\n",
       "</style>\n",
       "<table border=\"1\" class=\"dataframe\">\n",
       "  <thead>\n",
       "    <tr style=\"text-align: right;\">\n",
       "      <th></th>\n",
       "      <th>index</th>\n",
       "      <th>AvgPrice in Thousands</th>\n",
       "    </tr>\n",
       "  </thead>\n",
       "  <tbody>\n",
       "    <tr>\n",
       "      <th>0</th>\n",
       "      <td>LowArea</td>\n",
       "      <td>0.834380</td>\n",
       "    </tr>\n",
       "    <tr>\n",
       "      <th>1</th>\n",
       "      <td>HighArea</td>\n",
       "      <td>0.823682</td>\n",
       "    </tr>\n",
       "    <tr>\n",
       "      <th>3</th>\n",
       "      <td>Rooms</td>\n",
       "      <td>0.544586</td>\n",
       "    </tr>\n",
       "    <tr>\n",
       "      <th>14</th>\n",
       "      <td>Type_Villa</td>\n",
       "      <td>0.221591</td>\n",
       "    </tr>\n",
       "    <tr>\n",
       "      <th>8</th>\n",
       "      <td>Type_PentHouse</td>\n",
       "      <td>0.123466</td>\n",
       "    </tr>\n",
       "    <tr>\n",
       "      <th>10</th>\n",
       "      <td>Type_RowHouse</td>\n",
       "      <td>0.057470</td>\n",
       "    </tr>\n",
       "    <tr>\n",
       "      <th>4</th>\n",
       "      <td>Unit_BHK</td>\n",
       "      <td>0.049740</td>\n",
       "    </tr>\n",
       "    <tr>\n",
       "      <th>15</th>\n",
       "      <td>Type_Villament</td>\n",
       "      <td>0.040239</td>\n",
       "    </tr>\n",
       "    <tr>\n",
       "      <th>13</th>\n",
       "      <td>Type_TownHouse</td>\n",
       "      <td>0.019910</td>\n",
       "    </tr>\n",
       "    <tr>\n",
       "      <th>11</th>\n",
       "      <td>Type_Studio BHK Apartment</td>\n",
       "      <td>-0.013054</td>\n",
       "    </tr>\n",
       "    <tr>\n",
       "      <th>9</th>\n",
       "      <td>Type_Plot</td>\n",
       "      <td>-0.028753</td>\n",
       "    </tr>\n",
       "    <tr>\n",
       "      <th>12</th>\n",
       "      <td>Type_StudioApartment</td>\n",
       "      <td>-0.034655</td>\n",
       "    </tr>\n",
       "    <tr>\n",
       "      <th>5</th>\n",
       "      <td>Unit_NA</td>\n",
       "      <td>-0.035540</td>\n",
       "    </tr>\n",
       "    <tr>\n",
       "      <th>6</th>\n",
       "      <td>Unit_RK</td>\n",
       "      <td>-0.036494</td>\n",
       "    </tr>\n",
       "    <tr>\n",
       "      <th>7</th>\n",
       "      <td>Type_Apartment</td>\n",
       "      <td>-0.247764</td>\n",
       "    </tr>\n",
       "  </tbody>\n",
       "</table>\n",
       "</div>"
      ],
      "text/plain": [
       "                        index  AvgPrice in Thousands\n",
       "0                     LowArea               0.834380\n",
       "1                    HighArea               0.823682\n",
       "3                       Rooms               0.544586\n",
       "14                 Type_Villa               0.221591\n",
       "8              Type_PentHouse               0.123466\n",
       "10              Type_RowHouse               0.057470\n",
       "4                    Unit_BHK               0.049740\n",
       "15             Type_Villament               0.040239\n",
       "13             Type_TownHouse               0.019910\n",
       "11  Type_Studio BHK Apartment              -0.013054\n",
       "9                   Type_Plot              -0.028753\n",
       "12       Type_StudioApartment              -0.034655\n",
       "5                     Unit_NA              -0.035540\n",
       "6                     Unit_RK              -0.036494\n",
       "7              Type_Apartment              -0.247764"
      ]
     },
     "execution_count": 59,
     "metadata": {},
     "output_type": "execute_result"
    }
   ],
   "source": [
    "# Let us check for the correlation\n",
    "df.corr()['AvgPrice in Thousands'].reset_index().sort_values('AvgPrice in Thousands', ascending=False)[1:]"
   ]
  },
  {
   "cell_type": "markdown",
   "metadata": {},
   "source": [
    "NOTE: We can clearly see that the columns LowArea, HighArea, Rooms and building Type are the ones that are contributing to the target variable."
   ]
  },
  {
   "cell_type": "code",
   "execution_count": 60,
   "metadata": {},
   "outputs": [
    {
     "data": {
      "text/plain": [
       "<matplotlib.axes._subplots.AxesSubplot at 0x1b12e3ccb38>"
      ]
     },
     "execution_count": 60,
     "metadata": {},
     "output_type": "execute_result"
    },
    {
     "data": {
      "image/png": "[encoded data removed]",
      "text/plain": [
       "<Figure size 1080x360 with 2 Axes>"
      ]
     },
     "metadata": {
      "needs_background": "light"
     },
     "output_type": "display_data"
    }
   ],
   "source": [
    "f, axes = plt.subplots(1, 2, figsize=(15, 5), sharex=True)\n",
    "sns.regplot(x='LowArea', y='AvgPrice in Thousands', data=df, ax=axes[0])\n",
    "sns.regplot(x='HighArea', y='AvgPrice in Thousands', data=df, ax=axes[1])"
   ]
  },
  {
   "cell_type": "markdown",
   "metadata": {},
   "source": [
    "## 5. Modelling <a name=\"model\"></a>"
   ]
  },
  {
   "cell_type": "markdown",
   "metadata": {},
   "source": [
    "Let us split our dataset into three: Train, Validation and Test sets. We will be using train set to train the model and validation to evaluate the accuracy of the model and finally test to check how well our model performs on new data."
   ]
  },
  {
   "cell_type": "code",
   "execution_count": 61,
   "metadata": {},
   "outputs": [],
   "source": [
    "seed = 0"
   ]
  },
  {
   "cell_type": "code",
   "execution_count": 62,
   "metadata": {},
   "outputs": [],
   "source": [
    "df = df.sample(random_state=seed, frac=1)"
   ]
  },
  {
   "cell_type": "code",
   "execution_count": 63,
   "metadata": {},
   "outputs": [
    {
     "data": {
      "text/html": [
       "<div>\n",
       "<style scoped>\n",
       "    .dataframe tbody tr th:only-of-type {\n",
       "        vertical-align: middle;\n",
       "    }\n",
       "\n",
       "    .dataframe tbody tr th {\n",
       "        vertical-align: top;\n",
       "    }\n",
       "\n",
       "    .dataframe thead th {\n",
       "        text-align: right;\n",
       "    }\n",
       "</style>\n",
       "<table border=\"1\" class=\"dataframe\">\n",
       "  <thead>\n",
       "    <tr style=\"text-align: right;\">\n",
       "      <th></th>\n",
       "      <th>LowArea</th>\n",
       "      <th>HighArea</th>\n",
       "      <th>AvgPrice in Thousands</th>\n",
       "      <th>Rooms</th>\n",
       "      <th>Unit_BHK</th>\n",
       "      <th>Unit_NA</th>\n",
       "      <th>Unit_RK</th>\n",
       "      <th>Type_Apartment</th>\n",
       "      <th>Type_PentHouse</th>\n",
       "      <th>Type_Plot</th>\n",
       "      <th>Type_RowHouse</th>\n",
       "      <th>Type_Studio BHK Apartment</th>\n",
       "      <th>Type_StudioApartment</th>\n",
       "      <th>Type_TownHouse</th>\n",
       "      <th>Type_Villa</th>\n",
       "      <th>Type_Villament</th>\n",
       "    </tr>\n",
       "  </thead>\n",
       "  <tbody>\n",
       "    <tr>\n",
       "      <th>712</th>\n",
       "      <td>1650</td>\n",
       "      <td>1820</td>\n",
       "      <td>12891.0</td>\n",
       "      <td>3.0</td>\n",
       "      <td>1</td>\n",
       "      <td>0</td>\n",
       "      <td>0</td>\n",
       "      <td>1</td>\n",
       "      <td>0</td>\n",
       "      <td>0</td>\n",
       "      <td>0</td>\n",
       "      <td>0</td>\n",
       "      <td>0</td>\n",
       "      <td>0</td>\n",
       "      <td>0</td>\n",
       "      <td>0</td>\n",
       "    </tr>\n",
       "    <tr>\n",
       "      <th>2104</th>\n",
       "      <td>1145</td>\n",
       "      <td>1160</td>\n",
       "      <td>4033.5</td>\n",
       "      <td>2.0</td>\n",
       "      <td>1</td>\n",
       "      <td>0</td>\n",
       "      <td>0</td>\n",
       "      <td>1</td>\n",
       "      <td>0</td>\n",
       "      <td>0</td>\n",
       "      <td>0</td>\n",
       "      <td>0</td>\n",
       "      <td>0</td>\n",
       "      <td>0</td>\n",
       "      <td>0</td>\n",
       "      <td>0</td>\n",
       "    </tr>\n",
       "    <tr>\n",
       "      <th>98</th>\n",
       "      <td>685</td>\n",
       "      <td>685</td>\n",
       "      <td>3842.5</td>\n",
       "      <td>1.0</td>\n",
       "      <td>1</td>\n",
       "      <td>0</td>\n",
       "      <td>0</td>\n",
       "      <td>1</td>\n",
       "      <td>0</td>\n",
       "      <td>0</td>\n",
       "      <td>0</td>\n",
       "      <td>0</td>\n",
       "      <td>0</td>\n",
       "      <td>0</td>\n",
       "      <td>0</td>\n",
       "      <td>0</td>\n",
       "    </tr>\n",
       "    <tr>\n",
       "      <th>399</th>\n",
       "      <td>1639</td>\n",
       "      <td>1853</td>\n",
       "      <td>12389.5</td>\n",
       "      <td>3.0</td>\n",
       "      <td>1</td>\n",
       "      <td>0</td>\n",
       "      <td>0</td>\n",
       "      <td>1</td>\n",
       "      <td>0</td>\n",
       "      <td>0</td>\n",
       "      <td>0</td>\n",
       "      <td>0</td>\n",
       "      <td>0</td>\n",
       "      <td>0</td>\n",
       "      <td>0</td>\n",
       "      <td>0</td>\n",
       "    </tr>\n",
       "    <tr>\n",
       "      <th>453</th>\n",
       "      <td>615</td>\n",
       "      <td>634</td>\n",
       "      <td>5250.0</td>\n",
       "      <td>1.0</td>\n",
       "      <td>1</td>\n",
       "      <td>0</td>\n",
       "      <td>0</td>\n",
       "      <td>1</td>\n",
       "      <td>0</td>\n",
       "      <td>0</td>\n",
       "      <td>0</td>\n",
       "      <td>0</td>\n",
       "      <td>0</td>\n",
       "      <td>0</td>\n",
       "      <td>0</td>\n",
       "      <td>0</td>\n",
       "    </tr>\n",
       "  </tbody>\n",
       "</table>\n",
       "</div>"
      ],
      "text/plain": [
       "      LowArea  HighArea  AvgPrice in Thousands  Rooms  Unit_BHK  Unit_NA  \\\n",
       "712      1650      1820                12891.0    3.0         1        0   \n",
       "2104     1145      1160                 4033.5    2.0         1        0   \n",
       "98        685       685                 3842.5    1.0         1        0   \n",
       "399      1639      1853                12389.5    3.0         1        0   \n",
       "453       615       634                 5250.0    1.0         1        0   \n",
       "\n",
       "      Unit_RK  Type_Apartment  Type_PentHouse  Type_Plot  Type_RowHouse  \\\n",
       "712         0               1               0          0              0   \n",
       "2104        0               1               0          0              0   \n",
       "98          0               1               0          0              0   \n",
       "399         0               1               0          0              0   \n",
       "453         0               1               0          0              0   \n",
       "\n",
       "      Type_Studio BHK Apartment  Type_StudioApartment  Type_TownHouse  \\\n",
       "712                           0                     0               0   \n",
       "2104                          0                     0               0   \n",
       "98                            0                     0               0   \n",
       "399                           0                     0               0   \n",
       "453                           0                     0               0   \n",
       "\n",
       "      Type_Villa  Type_Villament  \n",
       "712            0               0  \n",
       "2104           0               0  \n",
       "98             0               0  \n",
       "399            0               0  \n",
       "453            0               0  "
      ]
     },
     "execution_count": 63,
     "metadata": {},
     "output_type": "execute_result"
    }
   ],
   "source": [
    "df.head()"
   ]
  },
  {
   "cell_type": "code",
   "execution_count": 64,
   "metadata": {},
   "outputs": [],
   "source": [
    "features = df.drop(['HighArea', 'AvgPrice in Thousands'], 1)\n",
    "target = df['AvgPrice in Thousands']"
   ]
  },
  {
   "cell_type": "code",
   "execution_count": 65,
   "metadata": {},
   "outputs": [],
   "source": [
    "from sklearn.preprocessing import StandardScaler\n",
    "\n",
    "scaler = StandardScaler()\n",
    "scaled = scaler.fit_transform(features)"
   ]
  },
  {
   "cell_type": "code",
   "execution_count": 66,
   "metadata": {},
   "outputs": [],
   "source": [
    "from sklearn.model_selection import train_test_split\n",
    "\n",
    "x, x_test, y, y_test = train_test_split(scaled, target, test_size=0.2, random_state=seed)\n",
    "x_train, x_val, y_train, y_val = train_test_split(x, y, test_size=0.2, random_state=seed)"
   ]
  },
  {
   "cell_type": "code",
   "execution_count": 67,
   "metadata": {},
   "outputs": [
    {
     "data": {
      "text/plain": [
       "((1469, 14), (368, 14), (460, 14))"
      ]
     },
     "execution_count": 67,
     "metadata": {},
     "output_type": "execute_result"
    }
   ],
   "source": [
    "x_train.shape, x_val.shape, x_test.shape"
   ]
  },
  {
   "cell_type": "code",
   "execution_count": 68,
   "metadata": {},
   "outputs": [],
   "source": [
    "from sklearn.linear_model import LinearRegression\n",
    "from sklearn.ensemble import RandomForestRegressor\n",
    "from xgboost import XGBRegressor"
   ]
  },
  {
   "cell_type": "code",
   "execution_count": 69,
   "metadata": {},
   "outputs": [],
   "source": [
    "from sklearn.metrics import mean_squared_error\n",
    "from math import sqrt"
   ]
  },
  {
   "cell_type": "code",
   "execution_count": 70,
   "metadata": {},
   "outputs": [],
   "source": [
    "models = {'Linear Regression': LinearRegression(), 'XGBoost': XGBRegressor(random_state=seed, n_estimators=80, max_depth=3), 'Random Forest': RandomForestRegressor(random_state=seed, n_estimators=100)}"
   ]
  },
  {
   "cell_type": "code",
   "execution_count": 71,
   "metadata": {
    "scrolled": true
   },
   "outputs": [
    {
     "name": "stdout",
     "output_type": "stream",
     "text": [
      "[18:39:40] WARNING: C:/Jenkins/workspace/xgboost-win64_release_0.90/src/objective/regression_obj.cu:152: reg:linear is now deprecated in favor of reg:squarederror.\n"
     ]
    },
    {
     "data": {
      "text/html": [
       "<div>\n",
       "<style scoped>\n",
       "    .dataframe tbody tr th:only-of-type {\n",
       "        vertical-align: middle;\n",
       "    }\n",
       "\n",
       "    .dataframe tbody tr th {\n",
       "        vertical-align: top;\n",
       "    }\n",
       "\n",
       "    .dataframe thead th {\n",
       "        text-align: right;\n",
       "    }\n",
       "</style>\n",
       "<table border=\"1\" class=\"dataframe\">\n",
       "  <thead>\n",
       "    <tr style=\"text-align: right;\">\n",
       "      <th></th>\n",
       "      <th>Model</th>\n",
       "      <th>RMSE</th>\n",
       "      <th>Accuracy</th>\n",
       "    </tr>\n",
       "  </thead>\n",
       "  <tbody>\n",
       "    <tr>\n",
       "      <th>0</th>\n",
       "      <td>Random Forest</td>\n",
       "      <td>5992.835673</td>\n",
       "      <td>76.04%</td>\n",
       "    </tr>\n",
       "    <tr>\n",
       "      <th>1</th>\n",
       "      <td>Linear Regression</td>\n",
       "      <td>6731.331709</td>\n",
       "      <td>69.77%</td>\n",
       "    </tr>\n",
       "    <tr>\n",
       "      <th>2</th>\n",
       "      <td>XGBoost</td>\n",
       "      <td>6942.721465</td>\n",
       "      <td>67.84%</td>\n",
       "    </tr>\n",
       "  </tbody>\n",
       "</table>\n",
       "</div>"
      ],
      "text/plain": [
       "               Model         RMSE Accuracy\n",
       "0      Random Forest  5992.835673   76.04%\n",
       "1  Linear Regression  6731.331709   69.77%\n",
       "2            XGBoost  6942.721465   67.84%"
      ]
     },
     "execution_count": 71,
     "metadata": {},
     "output_type": "execute_result"
    }
   ],
   "source": [
    "inferences = []\n",
    "accuracies = []\n",
    "for name, model in zip(models.keys(), models.values()):\n",
    "    model.fit(x_train, y_train)\n",
    "\n",
    "    y_val_pred = np.round(model.predict(x_val))\n",
    "    \n",
    "    inferences.append(sqrt(mean_squared_error(y_val, y_val_pred)))\n",
    "    accuracies.append(f'{round(model.score(x_val, y_val)*100, 2)}%')\n",
    "\n",
    "pd.DataFrame({'Model': pd.Series(models).index, 'RMSE': inferences, 'Accuracy': accuracies}).sort_values('RMSE').reset_index(drop=True)"
   ]
  },
  {
   "cell_type": "markdown",
   "metadata": {},
   "source": [
    "Based on our inferences XGBoost model is performing well than others. Let us make our predictions for the test dataset."
   ]
  },
  {
   "cell_type": "code",
   "execution_count": 72,
   "metadata": {},
   "outputs": [],
   "source": [
    "predicted = np.round(models['XGBoost'].predict(x_test))"
   ]
  },
  {
   "cell_type": "code",
   "execution_count": 74,
   "metadata": {},
   "outputs": [
    {
     "data": {
      "text/plain": [
       "<matplotlib.axes._subplots.AxesSubplot at 0x1b1305eb4a8>"
      ]
     },
     "execution_count": 74,
     "metadata": {},
     "output_type": "execute_result"
    },
    {
     "data": {
      "image/png": "[encoded data removed]",
      "text/plain": [
       "<Figure size 432x288 with 1 Axes>"
      ]
     },
     "metadata": {
      "needs_background": "light"
     },
     "output_type": "display_data"
    }
   ],
   "source": [
    "sns.distplot(predicted, hist=False)"
   ]
  },
  {
   "cell_type": "markdown",
   "metadata": {},
   "source": [
    "As you can see our model has predicted the prices for the apartments in the test dataset. Similarly we can tune the parameters to further improve the accuracy of our model."
   ]
  },
  {
   "cell_type": "markdown",
   "metadata": {},
   "source": [
    "## 6. Conclusion <a name=\"conclusion\"></a>"
   ]
  },
  {
   "cell_type": "markdown",
   "metadata": {},
   "source": [
    "The objective of this project is to predict the prices for apartments in Bengaluru, India in order to help home buyers to purchase their dream house at an optimal price. By acquiring information related to different apartment sales in Bengaluru we were able to predict the sale price for future transactions. This model will be useful for the homebuyers who are planning to buy a house."
   ]
  },
  {
   "cell_type": "markdown",
   "metadata": {},
   "source": [
    "## 7. Enhancements <a name=\"enhancement\"></a>"
   ]
  },
  {
   "cell_type": "markdown",
   "metadata": {},
   "source": [
    "I was able to achieve a decent amount of accuracy but by adding or generating more features we will be able to reduce the Root Mean Squared Loss(RMSE) further. Hyperparameter tuning is another technique which can be used to enhance the performance of the model. "
   ]
  }
 ],
 "metadata": {
  "kernelspec": {
   "display_name": "Python 3",
   "language": "python",
   "name": "python3"
  },
  "language_info": {
   "codemirror_mode": {
    "name": "ipython",
    "version": 3
   },
   "file_extension": ".py",
   "mimetype": "text/x-python",
   "name": "python",
   "nbconvert_exporter": "python",
   "pygments_lexer": "ipython3",
   "version": "3.7.1"
  }
 },
 "nbformat": 4,
 "nbformat_minor": 2
}
