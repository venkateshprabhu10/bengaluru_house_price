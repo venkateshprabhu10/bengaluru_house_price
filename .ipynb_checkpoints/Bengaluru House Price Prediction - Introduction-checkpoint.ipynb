{
 "cells": [
  {
   "cell_type": "markdown",
   "metadata": {},
   "source": [
    "## Table of contents\n",
    "* [Introduction: Business Problem](#introduction)\n",
    "* [Data](#data)\n",
    "* [Methodology](#methodology)\n",
    "* [Exploratory Data Analysis](#eda)\n",
    "* [Modelling](#model)\n",
    "* [Conclusion](#conclusion)\n",
    "* [Enhancements](#enhancement)"
   ]
  },
  {
   "cell_type": "markdown",
   "metadata": {},
   "source": [
    "## 1. Introduction <a name=\"introduction\"></a>"
   ]
  },
  {
   "cell_type": "markdown",
   "metadata": {},
   "source": [
    "### 1.1 Background"
   ]
  },
  {
   "cell_type": "markdown",
   "metadata": {},
   "source": [
    "![title](https://www.tripsavvy.com/thmb/XsDfjokA4nbyEBQ7fBDv-aRammc=/950x0/filters:no_upscale():max_bytes(150000):strip_icc():format(webp)/GettyImages-536116268-5b5d74e846e0fb0050adcf3b.jpg)"
   ]
  },
  {
   "cell_type": "markdown",
   "metadata": {},
   "source": [
    "Have you ever thought of settling in a bustling yet beautiful city in India? Well I am going to introduce you to Bangalore, India.\n",
    "\n",
    "**Bangalore**, officially known as Bengaluru, is the capital of the Indian state of Karnataka. It has a population of over ten million, making it a megacity and the third-most populous city and fifth-most populous urban agglomeration in India. Today as a large city and growing metropolis, Bangalore is home to many of the most well-recognised colleges and research institutions in India. Numerous public sector heavy industries, software companies, aerospace, tele-communications, and defence organizations are located in the city. Bangalore is known as the Silicon Valley of India because of its position as the nation's leading IT exporter. The population density of the city is **4,381 persons per square kilometer** and amounting over 12.476 Million overall. The population growth has extended by 47% in only ten years in light of creating open entryways for employment and growth that are attracting individuals from everywhere throughout the nation."
   ]
  },
  {
   "cell_type": "markdown",
   "metadata": {},
   "source": [
    "### 1.2 Problem"
   ]
  },
  {
   "cell_type": "markdown",
   "metadata": {},
   "source": [
    "Having said that lots of people have started to settle in this city triggering a substantial increase in the house prices over the years. Residential land prices even reach Rs.12,000 per square feet in some parts of Bangalore. Businesses and attractions established across the city have even increased the prices. This makes it difficult for someone who is planning to buy apartments/ villas in Bangalore as most of the property owners try to sell it for higher prices. One also need to have a good idea about the places/facilities nearby before investing a huge sum of money.\n",
    "\n",
    "This notebooks aims to predict the price of an apartment/villa in Bangalore and also provides information regarding nearby places around that location and helps people who are planning to purchase an apartment in Bangalore."
   ]
  },
  {
   "cell_type": "markdown",
   "metadata": {},
   "source": [
    "### 1.3 Approach"
   ]
  },
  {
   "cell_type": "markdown",
   "metadata": {},
   "source": [
    "We can create a regression model based on previous apartment sales in different parts of Bangalore. We will consider important features like location, area and type of the building. Foursquare API can be used to identify the businesses and attractions nearby that location to understand the reason for the price."
   ]
  }
 ],
 "metadata": {
  "kernelspec": {
   "display_name": "Python 3",
   "language": "python",
   "name": "python3"
  },
  "language_info": {
   "codemirror_mode": {
    "name": "ipython",
    "version": 3
   },
   "file_extension": ".py",
   "mimetype": "text/x-python",
   "name": "python",
   "nbconvert_exporter": "python",
   "pygments_lexer": "ipython3",
   "version": "3.7.1"
  }
 },
 "nbformat": 4,
 "nbformat_minor": 2
}
